{
 "cells": [
  {
   "cell_type": "code",
   "execution_count": 1,
   "id": "73647e99-1def-4f96-81d3-ec0cbe29625f",
   "metadata": {},
   "outputs": [],
   "source": [
    "import matplotlib.pyplot as plt\n",
    "import pandas as pd\n",
    "import numpy as np\n",
    "from backtest.data import FetchCharts, Cache\n",
    "from datetime import datetime"
   ]
  },
  {
   "cell_type": "code",
   "execution_count": 2,
   "id": "5201fd92-4e6e-4c06-87da-03d49fac7756",
   "metadata": {},
   "outputs": [
    {
     "name": "stdout",
     "output_type": "stream",
     "text": [
      "┌ DataPipe(DataPipeType.CACHE, Cache) ┐\n",
      "│                                     │\n",
      "│ FetchCharts -> Cache                │\n",
      "│                                     │\n",
      "└─────────────────────────────────────┘\n"
     ]
    }
   ],
   "source": [
    "TICKERS = ['AAPL', 'NVDA', 'META', \"AMZN\"]\n",
    "pipe = FetchCharts(TICKERS) | Cache()\n",
    "print(pipe)"
   ]
  },
  {
   "cell_type": "code",
   "execution_count": 3,
   "id": "e29b4eed-5f6e-4fbd-9048-42d3ed131f59",
   "metadata": {},
   "outputs": [],
   "source": [
    "data = pipe.get(datetime(2000, 1, 1), datetime(2020, 1, 1))"
   ]
  },
  {
   "cell_type": "code",
   "execution_count": 10,
   "id": "cf151e6d-b7f6-4df1-ba9e-30df6681a8c2",
   "metadata": {},
   "outputs": [],
   "source": [
    "chart = data[\"NVDA\"][['Open', 'High', 'Low', 'Close', 'Volume']]\n",
    "chart.index = chart.index.date"
   ]
  },
  {
   "cell_type": "code",
   "execution_count": 11,
   "id": "1d2c73ce-fa79-4525-a290-5ecde8f2ed70",
   "metadata": {},
   "outputs": [
    {
     "data": {
      "text/html": [
       "<div>\n",
       "<style scoped>\n",
       "    .dataframe tbody tr th:only-of-type {\n",
       "        vertical-align: middle;\n",
       "    }\n",
       "\n",
       "    .dataframe tbody tr th {\n",
       "        vertical-align: top;\n",
       "    }\n",
       "\n",
       "    .dataframe thead th {\n",
       "        text-align: right;\n",
       "    }\n",
       "</style>\n",
       "<table border=\"1\" class=\"dataframe\">\n",
       "  <thead>\n",
       "    <tr style=\"text-align: right;\">\n",
       "      <th></th>\n",
       "      <th>Open</th>\n",
       "      <th>High</th>\n",
       "      <th>Low</th>\n",
       "      <th>Close</th>\n",
       "      <th>Volume</th>\n",
       "    </tr>\n",
       "  </thead>\n",
       "  <tbody>\n",
       "    <tr>\n",
       "      <th>2000-01-03</th>\n",
       "      <td>0.090282</td>\n",
       "      <td>0.090999</td>\n",
       "      <td>0.084311</td>\n",
       "      <td>0.089446</td>\n",
       "      <td>300912000</td>\n",
       "    </tr>\n",
       "    <tr>\n",
       "      <th>2000-01-04</th>\n",
       "      <td>0.087893</td>\n",
       "      <td>0.088132</td>\n",
       "      <td>0.082639</td>\n",
       "      <td>0.087058</td>\n",
       "      <td>300480000</td>\n",
       "    </tr>\n",
       "    <tr>\n",
       "      <th>2000-01-05</th>\n",
       "      <td>0.084550</td>\n",
       "      <td>0.085983</td>\n",
       "      <td>0.082997</td>\n",
       "      <td>0.084191</td>\n",
       "      <td>188352000</td>\n",
       "    </tr>\n",
       "    <tr>\n",
       "      <th>2000-01-06</th>\n",
       "      <td>0.084191</td>\n",
       "      <td>0.084191</td>\n",
       "      <td>0.075474</td>\n",
       "      <td>0.078698</td>\n",
       "      <td>120480000</td>\n",
       "    </tr>\n",
       "    <tr>\n",
       "      <th>2000-01-07</th>\n",
       "      <td>0.078340</td>\n",
       "      <td>0.080848</td>\n",
       "      <td>0.077146</td>\n",
       "      <td>0.080012</td>\n",
       "      <td>71184000</td>\n",
       "    </tr>\n",
       "    <tr>\n",
       "      <th>...</th>\n",
       "      <td>...</td>\n",
       "      <td>...</td>\n",
       "      <td>...</td>\n",
       "      <td>...</td>\n",
       "      <td>...</td>\n",
       "    </tr>\n",
       "    <tr>\n",
       "      <th>2019-12-24</th>\n",
       "      <td>5.930547</td>\n",
       "      <td>5.958184</td>\n",
       "      <td>5.896189</td>\n",
       "      <td>5.941004</td>\n",
       "      <td>138864000</td>\n",
       "    </tr>\n",
       "    <tr>\n",
       "      <th>2019-12-26</th>\n",
       "      <td>5.944490</td>\n",
       "      <td>5.983330</td>\n",
       "      <td>5.925568</td>\n",
       "      <td>5.955196</td>\n",
       "      <td>182852000</td>\n",
       "    </tr>\n",
       "    <tr>\n",
       "      <th>2019-12-27</th>\n",
       "      <td>5.970384</td>\n",
       "      <td>5.983829</td>\n",
       "      <td>5.871043</td>\n",
       "      <td>5.897435</td>\n",
       "      <td>254644000</td>\n",
       "    </tr>\n",
       "    <tr>\n",
       "      <th>2019-12-30</th>\n",
       "      <td>5.875525</td>\n",
       "      <td>5.880754</td>\n",
       "      <td>5.752782</td>\n",
       "      <td>5.784152</td>\n",
       "      <td>258056000</td>\n",
       "    </tr>\n",
       "    <tr>\n",
       "      <th>2019-12-31</th>\n",
       "      <td>5.748797</td>\n",
       "      <td>5.867807</td>\n",
       "      <td>5.729626</td>\n",
       "      <td>5.858346</td>\n",
       "      <td>231004000</td>\n",
       "    </tr>\n",
       "  </tbody>\n",
       "</table>\n",
       "<p>5031 rows × 5 columns</p>\n",
       "</div>"
      ],
      "text/plain": [
       "                Open      High       Low     Close     Volume\n",
       "2000-01-03  0.090282  0.090999  0.084311  0.089446  300912000\n",
       "2000-01-04  0.087893  0.088132  0.082639  0.087058  300480000\n",
       "2000-01-05  0.084550  0.085983  0.082997  0.084191  188352000\n",
       "2000-01-06  0.084191  0.084191  0.075474  0.078698  120480000\n",
       "2000-01-07  0.078340  0.080848  0.077146  0.080012   71184000\n",
       "...              ...       ...       ...       ...        ...\n",
       "2019-12-24  5.930547  5.958184  5.896189  5.941004  138864000\n",
       "2019-12-26  5.944490  5.983330  5.925568  5.955196  182852000\n",
       "2019-12-27  5.970384  5.983829  5.871043  5.897435  254644000\n",
       "2019-12-30  5.875525  5.880754  5.752782  5.784152  258056000\n",
       "2019-12-31  5.748797  5.867807  5.729626  5.858346  231004000\n",
       "\n",
       "[5031 rows x 5 columns]"
      ]
     },
     "execution_count": 11,
     "metadata": {},
     "output_type": "execute_result"
    }
   ],
   "source": [
    "chart"
   ]
  },
  {
   "cell_type": "code",
   "execution_count": 31,
   "id": "e57a7415-9293-4d3d-8645-2c99e200284f",
   "metadata": {},
   "outputs": [
    {
     "data": {
      "text/plain": [
       "Text(0, 0.5, 'Probabilities (%)')"
      ]
     },
     "execution_count": 31,
     "metadata": {},
     "output_type": "execute_result"
    },
    {
     "data": {
      "image/png": "[encoded data removed]",
      "text/plain": [
       "<Figure size 640x480 with 1 Axes>"
      ]
     },
     "metadata": {},
     "output_type": "display_data"
    }
   ],
   "source": [
    "probs = [0, 100, 0]\n",
    "labels = ['Up', 'Neutral', 'Down']\n",
    "colors = [(76 / 255, 175 / 255, 80 / 255), (158 / 255, 158 / 255, 158 / 255), (244 / 255, 67 / 255, 54 / 255)]\n",
    "plt.bar([1, 2, 3], probs, color=colors)\n",
    "plt.xticks([1, 2, 3], labels, fontsize=14) #, color=[colors[0], colors[1], colors[2]])\n",
    "ax = plt.gca()\n",
    "xtick_labels = ax.get_xticklabels()\n",
    "\n",
    "# Apply the RGB colors to the x-tick labels\n",
    "for label, color in zip(xtick_labels, colors):\n",
    "    label.set_color(color)\n",
    "plt.ylabel(\"Probabilities (%)\", fontsize=14)"
   ]
  },
  {
   "cell_type": "code",
   "execution_count": null,
   "id": "4d382148-213e-4969-9c00-c2799f7f6466",
   "metadata": {},
   "outputs": [],
   "source": []
  }
 ],
 "metadata": {
  "kernelspec": {
   "display_name": "Python 3 (ipykernel)",
   "language": "python",
   "name": "python3"
  },
  "language_info": {
   "codemirror_mode": {
    "name": "ipython",
    "version": 3
   },
   "file_extension": ".py",
   "mimetype": "text/x-python",
   "name": "python",
   "nbconvert_exporter": "python",
   "pygments_lexer": "ipython3",
   "version": "3.12.3"
  }
 },
 "nbformat": 4,
 "nbformat_minor": 5
}
